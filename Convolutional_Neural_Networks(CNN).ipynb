{
  "nbformat": 4,
  "nbformat_minor": 0,
  "metadata": {
    "colab": {
      "provenance": []
    },
    "kernelspec": {
      "name": "python3",
      "display_name": "Python 3"
    },
    "language_info": {
      "name": "python"
    },
    "accelerator": "GPU",
    "gpuClass": "standard"
  },
  "cells": [
    {
      "cell_type": "code",
      "execution_count": 86,
      "metadata": {
        "colab": {
          "base_uri": "https://localhost:8080/"
        },
        "id": "RMODC5pNFzdx",
        "outputId": "2ef6fd9b-6c04-424c-b201-c6fda54879b0"
      },
      "outputs": [
        {
          "output_type": "stream",
          "name": "stdout",
          "text": [
            "1/1 [==============================] - 0s 35ms/step\n"
          ]
        }
      ],
      "source": [
        "\n",
        "import numpy as np\n",
        "from keras.models import Sequential\n",
        "from keras.layers import MaxPooling2D\n",
        "  \n",
        "# define input image\n",
        "image = np.array([[2, 2, 7, 3],\n",
        "                  [9, 4, 6, 1],\n",
        "                  [8, 5, 2, 4],\n",
        "                  [3, 1, 2, 6]])\n",
        "image = image.reshape(1, 4, 4, 1)\n",
        "  \n",
        "# define model containing just a single max pooling layer\n",
        "model = Sequential(\n",
        "    [MaxPooling2D(pool_size = 2, strides = 2)])\n",
        "  \n",
        "# generate pooled output\n",
        "output = model.predict(image)"
      ]
    },
    {
      "cell_type": "code",
      "source": [
        "output"
      ],
      "metadata": {
        "colab": {
          "base_uri": "https://localhost:8080/"
        },
        "id": "JHJFJFAnGRRe",
        "outputId": "d5941065-d86c-4bec-b293-6a6f70efc7e6"
      },
      "execution_count": 87,
      "outputs": [
        {
          "output_type": "execute_result",
          "data": {
            "text/plain": [
              "array([[[[9],\n",
              "         [7]],\n",
              "\n",
              "        [[8],\n",
              "         [6]]]])"
            ]
          },
          "metadata": {},
          "execution_count": 87
        }
      ]
    },
    {
      "cell_type": "code",
      "source": [
        "output = np.squeeze(output)\n",
        "output"
      ],
      "metadata": {
        "colab": {
          "base_uri": "https://localhost:8080/"
        },
        "id": "tGjET5-It6Oo",
        "outputId": "983d3ba3-5478-453e-b12c-ff502147d771"
      },
      "execution_count": 88,
      "outputs": [
        {
          "output_type": "execute_result",
          "data": {
            "text/plain": [
              "array([[9, 7],\n",
              "       [8, 6]])"
            ]
          },
          "metadata": {},
          "execution_count": 88
        }
      ]
    },
    {
      "cell_type": "code",
      "source": [
        "import tensorflow as tf\n",
        "from keras.preprocessing.image import ImageDataGenerator"
      ],
      "metadata": {
        "id": "yvQZ6OSRuYUj"
      },
      "execution_count": 89,
      "outputs": []
    },
    {
      "cell_type": "code",
      "source": [
        "from google.colab import drive\n",
        "\n",
        "drive.mount('/content/drive')"
      ],
      "metadata": {
        "id": "k93rdq-e21FZ"
      },
      "execution_count": null,
      "outputs": []
    },
    {
      "cell_type": "markdown",
      "source": [
        "# Data Preprocessing"
      ],
      "metadata": {
        "id": "x8pk6rN95q7T"
      }
    },
    {
      "cell_type": "code",
      "source": [
        "train_set = '/content/drive/dataset/training_set'\n",
        "test_set = '/content/drive/dataset/test_set'"
      ],
      "metadata": {
        "id": "dbgAt1s23zyj"
      },
      "execution_count": null,
      "outputs": []
    },
    {
      "cell_type": "markdown",
      "source": [
        "[Reference to using Keras ImageDataGenerator](https://blog.keras.io/building-powerful-image-classification-models-using-very-little-data.html)"
      ],
      "metadata": {
        "id": "wDTJ-bR8dMw1"
      }
    },
    {
      "cell_type": "markdown",
      "source": [
        "## Training set preprocessing"
      ],
      "metadata": {
        "id": "-sZ-C2kq5vlD"
      }
    },
    {
      "cell_type": "code",
      "source": [
        "train_datagen = ImageDataGenerator(\n",
        "        rescale=1./255,\n",
        "        shear_range=0.2,\n",
        "        zoom_range=0.2,\n",
        "        horizontal_flip=True)\n",
        "\n",
        "train_set = train_datagen.flow_from_directory(\n",
        "        '/content/drive/MyDrive/dataset/training_set',  # this is the target directory\n",
        "        target_size=(64, 64),  # all images will be resized to 150x150\n",
        "        batch_size=32,\n",
        "        class_mode='binary')  # since we use binary_crossentropy loss, we need binary labels"
      ],
      "metadata": {
        "id": "Ht6n2AH45o2V"
      },
      "execution_count": null,
      "outputs": []
    },
    {
      "cell_type": "markdown",
      "source": [
        "## Test set preprocessing\n",
        "\n",
        "We will only rescale"
      ],
      "metadata": {
        "id": "RmMFBMs_50G5"
      }
    },
    {
      "cell_type": "code",
      "source": [
        "test_datagen = ImageDataGenerator(rescale=1./255)\n",
        "\n",
        "test_gen = test_datagen.flow_from_directory(\n",
        "        '/content/drive/MyDrive/dataset/test_set',\n",
        "        target_size=(64, 64),\n",
        "        batch_size=32,\n",
        "        class_mode='binary')"
      ],
      "metadata": {
        "id": "X28kOWIq49WF"
      },
      "execution_count": null,
      "outputs": []
    },
    {
      "cell_type": "markdown",
      "source": [
        "# Buidling the CNN"
      ],
      "metadata": {
        "id": "0AY8DT3Hf5i7"
      }
    },
    {
      "cell_type": "markdown",
      "source": [
        "## Initializing the CNN"
      ],
      "metadata": {
        "id": "tv4XnFRm6Fv1"
      }
    },
    {
      "cell_type": "code",
      "source": [
        "cnn = tf.keras.models.Sequential()"
      ],
      "metadata": {
        "id": "ItXCmGP-XXkp"
      },
      "execution_count": null,
      "outputs": []
    },
    {
      "cell_type": "markdown",
      "source": [
        "[Keras Layers](https://keras.io/api/layers/)"
      ],
      "metadata": {
        "id": "75slp0h47RpY"
      }
    },
    {
      "cell_type": "markdown",
      "source": [
        "## [Convolution](https://keras.io/api/layers/convolution_layers/)"
      ],
      "metadata": {
        "id": "WK3C8mVE6VZI"
      }
    },
    {
      "cell_type": "code",
      "source": [],
      "metadata": {
        "id": "Jn9xskZ4O257"
      },
      "execution_count": null,
      "outputs": []
    },
    {
      "cell_type": "code",
      "source": [
        "# Adding the first convolutional layer\n",
        "\n",
        "cnn.add(\n",
        "    tf.keras.layers.Conv2D(32, 3, \n",
        "    activation='relu', input_shape=(64, 64, 3)))"
      ],
      "metadata": {
        "id": "u1tddTg16ZIU"
      },
      "execution_count": null,
      "outputs": []
    },
    {
      "cell_type": "markdown",
      "source": [
        "## [Pooling](https://keras.io/api/layers/pooling_layers/)"
      ],
      "metadata": {
        "id": "zB-faO3k_33l"
      }
    },
    {
      "cell_type": "code",
      "source": [
        "cnn.add(tf.keras.layers.MaxPooling2D(pool_size=(2,2), strides=2))"
      ],
      "metadata": {
        "id": "O4Qyb47s_5bg"
      },
      "execution_count": null,
      "outputs": []
    },
    {
      "cell_type": "markdown",
      "source": [
        "## Adding the second Convolutional Layer"
      ],
      "metadata": {
        "id": "UJl9ymeJF67X"
      }
    },
    {
      "cell_type": "code",
      "source": [
        "cnn.add(\n",
        "    tf.keras.layers.Conv2D(32, 3, \n",
        "    activation='relu', input_shape=(64, 64, 3)))\n",
        "\n",
        "cnn.add(tf.keras.layers.MaxPooling2D(pool_size=(2,2), strides=2))"
      ],
      "metadata": {
        "id": "dEDZ2w7V8Eit"
      },
      "execution_count": null,
      "outputs": []
    },
    {
      "cell_type": "markdown",
      "source": [
        "## [Flattening](https://keras.io/api/layers/reshaping_layers/flatten/)"
      ],
      "metadata": {
        "id": "vGBAjHNKGKsu"
      }
    },
    {
      "cell_type": "code",
      "source": [
        "cnn.add(tf.keras.layers.Flatten())"
      ],
      "metadata": {
        "id": "xy4NRpfy9TLw"
      },
      "execution_count": null,
      "outputs": []
    },
    {
      "cell_type": "markdown",
      "source": [
        "## Full Connetion"
      ],
      "metadata": {
        "id": "CLBQzCPbHUul"
      }
    },
    {
      "cell_type": "code",
      "source": [
        "cnn.add(tf.keras.layers.Dense(units=128, activation='relu'))"
      ],
      "metadata": {
        "id": "ewCKnVU3HYXm"
      },
      "execution_count": null,
      "outputs": []
    },
    {
      "cell_type": "markdown",
      "source": [
        "## Output Layer"
      ],
      "metadata": {
        "id": "ZpeE_qMMH-GH"
      }
    },
    {
      "cell_type": "markdown",
      "source": [
        "We choose a sigmoid activation since we a dealing with a binary classification"
      ],
      "metadata": {
        "id": "uN5HIVGxINb0"
      }
    },
    {
      "cell_type": "code",
      "source": [
        "cnn.add(tf.keras.layers.Dense(units=1, activation='sigmoid'))"
      ],
      "metadata": {
        "id": "6xNDyqDjIBL1"
      },
      "execution_count": null,
      "outputs": []
    },
    {
      "cell_type": "markdown",
      "source": [
        "# Training the CNN"
      ],
      "metadata": {
        "id": "6fOoFTnGIpPV"
      }
    },
    {
      "cell_type": "markdown",
      "source": [
        "## Compiling the CNN"
      ],
      "metadata": {
        "id": "iZ6W9Rp9Irwc"
      }
    },
    {
      "cell_type": "code",
      "source": [
        "cnn.compile(optimizer='adam', loss='binary_crossentropy', metrics=['accuracy'])"
      ],
      "metadata": {
        "id": "0S6qqkLpIt4D"
      },
      "execution_count": null,
      "outputs": []
    },
    {
      "cell_type": "markdown",
      "source": [
        "## Fit/train the CNN"
      ],
      "metadata": {
        "id": "wfBTC5fsJF5I"
      }
    },
    {
      "cell_type": "code",
      "source": [
        "cnn.fit(x= train_set, validation_data=test_set, epochs=10,)"
      ],
      "metadata": {
        "id": "9Ay9p7kMJJ-0"
      },
      "execution_count": null,
      "outputs": []
    },
    {
      "cell_type": "markdown",
      "source": [
        "# Predictions"
      ],
      "metadata": {
        "id": "Cj6uyN1JKfmc"
      }
    },
    {
      "cell_type": "code",
      "source": [
        "import numpy as numpy\n",
        "from keras.preprocessing import image\n",
        "\n",
        "test_image = image.load_img(\n",
        "    '/content/drive/MyDrive/dataset/single_prediction/cat_or_dog_1.jpg',\n",
        "    target_size=(64, 64))\n",
        "\n",
        "test_image = image.img_to_array(test_image)\n",
        "\n",
        "test_image = np.expand_dims(test_image, axis=0)\n",
        "\n",
        "prediction = cnn.predict(test_image/255.0)\n",
        "\n",
        "if prediction[0][0] > 0.5:\n",
        "  prediction = 'Dog'\n",
        "else:\n",
        "  prediction = \"Cat\"\n",
        "\n",
        "print(prediction)"
      ],
      "metadata": {
        "id": "ynkumD2OKhto"
      },
      "execution_count": null,
      "outputs": []
    }
  ]
}